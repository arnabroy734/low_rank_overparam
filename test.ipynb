{
 "cells": [
  {
   "cell_type": "code",
   "execution_count": 1,
   "id": "9db48ae9",
   "metadata": {},
   "outputs": [],
   "source": [
    "from datasets import create_dataset\n",
    "import yaml\n",
    "import torchvision.models as models\n",
    "from overparam.utils import overparameterize\n",
    "from model import create_basemodel\n",
    "import pandas as pd\n",
    "from test import evaluate_model\n",
    "from sklearn.metrics import roc_auc_score"
   ]
  },
  {
   "cell_type": "code",
   "execution_count": 2,
   "id": "0d220729",
   "metadata": {},
   "outputs": [
    {
     "name": "stdout",
     "output_type": "stream",
     "text": [
      "Multi-label mode: True, Number of classes: [5]\n",
      "------------------------------\n",
      "Found 202 images in total, 66 positive images, 136 negative images\n",
      "Cardiomegaly(C0): imbalance ratio is 0.3267\n",
      "\n",
      "Found 202 images in total, 42 positive images, 160 negative images\n",
      "Edema(C1): imbalance ratio is 0.2079\n",
      "\n",
      "Found 202 images in total, 32 positive images, 170 negative images\n",
      "Consolidation(C2): imbalance ratio is 0.1584\n",
      "\n",
      "Found 202 images in total, 75 positive images, 127 negative images\n",
      "Atelectasis(C3): imbalance ratio is 0.3713\n",
      "\n",
      "Found 202 images in total, 64 positive images, 138 negative images\n",
      "Pleural Effusion(C4): imbalance ratio is 0.3168\n",
      "\n",
      "------------------------------\n"
     ]
    }
   ],
   "source": [
    "evaluation = evaluate_model(modelpath='weights/chestexpert/best.pth', dataset_name='chestexpert')"
   ]
  },
  {
   "cell_type": "code",
   "execution_count": 3,
   "id": "7bc43df6",
   "metadata": {},
   "outputs": [
    {
     "data": {
      "text/plain": [
       "{'Cardiomegaly': 0.6882798573975045,\n",
       " 'Edema': 0.8550595238095239,\n",
       " 'Consolidation': 0.8218749999999999,\n",
       " 'Atelectasis': 0.7824671916010499,\n",
       " 'Pleural Effusion': 0.8393342391304347,\n",
       " 'overall': 0.7683440467960128}"
      ]
     },
     "execution_count": 3,
     "metadata": {},
     "output_type": "execute_result"
    }
   ],
   "source": [
    "evaluation"
   ]
  },
  {
   "cell_type": "code",
   "execution_count": 4,
   "id": "eca74f30",
   "metadata": {},
   "outputs": [
    {
     "data": {
      "text/plain": [
       "array([[0., 1., 0., 1., 1.],\n",
       "       [0., 1., 0., 1., 0.],\n",
       "       [0., 0., 0., 0., 1.],\n",
       "       ...,\n",
       "       [0., 1., 0., 0., 0.],\n",
       "       [0., 0., 0., 0., 0.],\n",
       "       [0., 0., 1., 0., 1.]], dtype=float32)"
      ]
     },
     "execution_count": 4,
     "metadata": {},
     "output_type": "execute_result"
    }
   ],
   "source": [
    "actual_labels"
   ]
  },
  {
   "cell_type": "code",
   "execution_count": 5,
   "id": "f0d3cb0c",
   "metadata": {},
   "outputs": [
    {
     "data": {
      "text/plain": [
       "0.7822163780959723"
      ]
     },
     "execution_count": 5,
     "metadata": {},
     "output_type": "execute_result"
    }
   ],
   "source": [
    "roc_auc_score(actual_labels, pred_scores, average='micro')"
   ]
  },
  {
   "cell_type": "code",
   "execution_count": 13,
   "id": "04468a22",
   "metadata": {},
   "outputs": [
    {
     "data": {
      "text/plain": [
       "0.8112249070797057"
      ]
     },
     "execution_count": 13,
     "metadata": {},
     "output_type": "execute_result"
    }
   ],
   "source": [
    "roc_auc_score(actual_labels[:, 4], pred_scores[:, 4])"
   ]
  },
  {
   "cell_type": "code",
   "execution_count": 8,
   "id": "d9d3699e",
   "metadata": {},
   "outputs": [],
   "source": [
    "with open(\"config.yaml\", \"r\") as f:\n",
    "    config = yaml.safe_load(f)\n",
    "    f.close()"
   ]
  },
  {
   "cell_type": "code",
   "execution_count": 9,
   "id": "68eb31fa",
   "metadata": {},
   "outputs": [
    {
     "name": "stdout",
     "output_type": "stream",
     "text": [
      "Multi-label mode: True, Number of classes: [5]\n",
      "------------------------------\n",
      "Found 10620 images in total, 1084 positive images, 9536 negative images\n",
      "Cardiomegaly(C0): imbalance ratio is 0.1021\n",
      "\n",
      "Found 10620 images in total, 3099 positive images, 7521 negative images\n",
      "Edema(C1): imbalance ratio is 0.2918\n",
      "\n",
      "Found 10620 images in total, 521 positive images, 10099 negative images\n",
      "Consolidation(C2): imbalance ratio is 0.0491\n",
      "\n",
      "Found 10620 images in total, 3650 positive images, 6970 negative images\n",
      "Atelectasis(C3): imbalance ratio is 0.3437\n",
      "\n",
      "Found 10620 images in total, 3203 positive images, 7417 negative images\n",
      "Pleural Effusion(C4): imbalance ratio is 0.3016\n",
      "\n",
      "------------------------------\n"
     ]
    }
   ],
   "source": [
    "ds = create_dataset(name='chestexpert', mode='cross_valid', config=config)"
   ]
  },
  {
   "cell_type": "code",
   "execution_count": null,
   "id": "13b60c67",
   "metadata": {},
   "outputs": [],
   "source": []
  },
  {
   "cell_type": "code",
   "execution_count": null,
   "id": "8670914d",
   "metadata": {},
   "outputs": [],
   "source": []
  },
  {
   "cell_type": "code",
   "execution_count": null,
   "id": "fef1092b",
   "metadata": {},
   "outputs": [],
   "source": []
  }
 ],
 "metadata": {
  "kernelspec": {
   "display_name": "base",
   "language": "python",
   "name": "python3"
  },
  "language_info": {
   "codemirror_mode": {
    "name": "ipython",
    "version": 3
   },
   "file_extension": ".py",
   "mimetype": "text/x-python",
   "name": "python",
   "nbconvert_exporter": "python",
   "pygments_lexer": "ipython3",
   "version": "3.12.7"
  }
 },
 "nbformat": 4,
 "nbformat_minor": 5
}
